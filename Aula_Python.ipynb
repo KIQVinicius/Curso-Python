{
  "nbformat": 4,
  "nbformat_minor": 0,
  "metadata": {
    "colab": {
      "name": "Aula_Python.ipynb",
      "provenance": [],
      "collapsed_sections": [],
      "toc_visible": true,
      "authorship_tag": "ABX9TyNldiQCK7BCDWBOZc29oXbP",
      "include_colab_link": true
    },
    "kernelspec": {
      "name": "python3",
      "display_name": "Python 3"
    }
  },
  "cells": [
    {
      "cell_type": "markdown",
      "metadata": {
        "id": "view-in-github",
        "colab_type": "text"
      },
      "source": [
        "<a href=\"https://colab.research.google.com/github/KIQVinicius/Curso-Python/blob/master/Aula_Python.ipynb\" target=\"_parent\"><img src=\"https://colab.research.google.com/assets/colab-badge.svg\" alt=\"Open In Colab\"/></a>"
      ]
    },
    {
      "cell_type": "markdown",
      "metadata": {
        "id": "L791lSYbunUH",
        "colab_type": "text"
      },
      "source": [
        "# Zen do Python\n"
      ]
    },
    {
      "cell_type": "code",
      "metadata": {
        "id": "85eRIDLquhqe",
        "colab_type": "code",
        "colab": {}
      },
      "source": [
        "import this"
      ],
      "execution_count": null,
      "outputs": []
    },
    {
      "cell_type": "markdown",
      "metadata": {
        "id": "Hk2Dh4f05prF",
        "colab_type": "text"
      },
      "source": [
        "# Números e Operações Matemáticas"
      ]
    },
    {
      "cell_type": "code",
      "metadata": {
        "id": "0c851tzx5wco",
        "colab_type": "code",
        "colab": {}
      },
      "source": [
        "print(1+1)"
      ],
      "execution_count": null,
      "outputs": []
    },
    {
      "cell_type": "code",
      "metadata": {
        "id": "aWYcudUC6F8X",
        "colab_type": "code",
        "colab": {}
      },
      "source": [
        "print(3-2)"
      ],
      "execution_count": null,
      "outputs": []
    },
    {
      "cell_type": "code",
      "metadata": {
        "id": "J5AQXkmH6HOp",
        "colab_type": "code",
        "colab": {}
      },
      "source": [
        "print(2*3)"
      ],
      "execution_count": null,
      "outputs": []
    },
    {
      "cell_type": "code",
      "metadata": {
        "id": "ECwy_hUI6JBr",
        "colab_type": "code",
        "colab": {}
      },
      "source": [
        "print(10/2)"
      ],
      "execution_count": null,
      "outputs": []
    },
    {
      "cell_type": "code",
      "metadata": {
        "id": "PXz8uu_J6KRu",
        "colab_type": "code",
        "colab": {}
      },
      "source": [
        "#Resto da divisão\n",
        "print(5%2)"
      ],
      "execution_count": null,
      "outputs": []
    },
    {
      "cell_type": "code",
      "metadata": {
        "id": "2kLsHSf36N_W",
        "colab_type": "code",
        "colab": {}
      },
      "source": [
        "#Exporencial\n",
        "print(4**2)"
      ],
      "execution_count": null,
      "outputs": []
    },
    {
      "cell_type": "code",
      "metadata": {
        "id": "-MciEgDI6QHl",
        "colab_type": "code",
        "colab": {}
      },
      "source": [
        "print(int(3.3))"
      ],
      "execution_count": null,
      "outputs": []
    },
    {
      "cell_type": "code",
      "metadata": {
        "id": "QrlLdY3D6UEW",
        "colab_type": "code",
        "colab": {}
      },
      "source": [
        "print(float(2))"
      ],
      "execution_count": null,
      "outputs": []
    },
    {
      "cell_type": "markdown",
      "metadata": {
        "id": "ThTfIdr36Zzc",
        "colab_type": "text"
      },
      "source": [
        "# Operadores Lógicos\n"
      ]
    },
    {
      "cell_type": "code",
      "metadata": {
        "id": "t4pIlmQn6eNz",
        "colab_type": "code",
        "colab": {}
      },
      "source": [
        "1==1"
      ],
      "execution_count": null,
      "outputs": []
    },
    {
      "cell_type": "code",
      "metadata": {
        "id": "lPydEFmo6kHC",
        "colab_type": "code",
        "colab": {}
      },
      "source": [
        "2!=1"
      ],
      "execution_count": null,
      "outputs": []
    },
    {
      "cell_type": "code",
      "metadata": {
        "id": "0tPpjleR6mE5",
        "colab_type": "code",
        "colab": {}
      },
      "source": [
        "\"Exemplo\"!=\"exemplo\""
      ],
      "execution_count": null,
      "outputs": []
    },
    {
      "cell_type": "code",
      "metadata": {
        "id": "gQO9yi5K6qKa",
        "colab_type": "code",
        "colab": {}
      },
      "source": [
        "2>1"
      ],
      "execution_count": null,
      "outputs": []
    },
    {
      "cell_type": "code",
      "metadata": {
        "id": "E9tzlDSV6sMt",
        "colab_type": "code",
        "colab": {}
      },
      "source": [
        "2<1"
      ],
      "execution_count": null,
      "outputs": []
    },
    {
      "cell_type": "code",
      "metadata": {
        "id": "DMvPoAZ26uNR",
        "colab_type": "code",
        "colab": {}
      },
      "source": [
        "2>=4"
      ],
      "execution_count": null,
      "outputs": []
    },
    {
      "cell_type": "code",
      "metadata": {
        "id": "f9xspa1f6wiZ",
        "colab_type": "code",
        "colab": {}
      },
      "source": [
        "1<=4"
      ],
      "execution_count": null,
      "outputs": []
    },
    {
      "cell_type": "markdown",
      "metadata": {
        "id": "B_9p48Fq7Ct1",
        "colab_type": "text"
      },
      "source": [
        "# Variaveis"
      ]
    },
    {
      "cell_type": "code",
      "metadata": {
        "id": "T6ct5tdN7HH_",
        "colab_type": "code",
        "colab": {}
      },
      "source": [
        "A = 2"
      ],
      "execution_count": 20,
      "outputs": []
    },
    {
      "cell_type": "code",
      "metadata": {
        "id": "3fj0cAd-7IZG",
        "colab_type": "code",
        "colab": {}
      },
      "source": [
        "B = 4.1"
      ],
      "execution_count": 22,
      "outputs": []
    },
    {
      "cell_type": "code",
      "metadata": {
        "id": "mUwylRH67JO6",
        "colab_type": "code",
        "colab": {}
      },
      "source": [
        "A+B"
      ],
      "execution_count": null,
      "outputs": []
    },
    {
      "cell_type": "code",
      "metadata": {
        "id": "r21TCjdj7Kzu",
        "colab_type": "code",
        "colab": {}
      },
      "source": [
        "C=\"Teste\""
      ],
      "execution_count": 24,
      "outputs": []
    },
    {
      "cell_type": "code",
      "metadata": {
        "id": "oK06LpRf7N9q",
        "colab_type": "code",
        "colab": {}
      },
      "source": [
        "C*A"
      ],
      "execution_count": null,
      "outputs": []
    },
    {
      "cell_type": "code",
      "metadata": {
        "id": "8EoPBKWE7Q_1",
        "colab_type": "code",
        "colab": {}
      },
      "source": [
        "C+A"
      ],
      "execution_count": null,
      "outputs": []
    },
    {
      "cell_type": "code",
      "metadata": {
        "id": "LBeL05_e7TuG",
        "colab_type": "code",
        "colab": {}
      },
      "source": [
        "C+str(A)"
      ],
      "execution_count": null,
      "outputs": []
    },
    {
      "cell_type": "code",
      "metadata": {
        "id": "U9QNSn-g7asQ",
        "colab_type": "code",
        "colab": {}
      },
      "source": [
        "type(C)"
      ],
      "execution_count": null,
      "outputs": []
    },
    {
      "cell_type": "code",
      "metadata": {
        "id": "E5kLdu8a7oCh",
        "colab_type": "code",
        "colab": {}
      },
      "source": [
        "type(A)"
      ],
      "execution_count": null,
      "outputs": []
    },
    {
      "cell_type": "code",
      "metadata": {
        "id": "e1K5Nl187vv6",
        "colab_type": "code",
        "colab": {}
      },
      "source": [
        "type(B)"
      ],
      "execution_count": null,
      "outputs": []
    },
    {
      "cell_type": "code",
      "metadata": {
        "id": "ur2EAPo78GiW",
        "colab_type": "code",
        "colab": {}
      },
      "source": [
        "D=5"
      ],
      "execution_count": 32,
      "outputs": []
    },
    {
      "cell_type": "code",
      "metadata": {
        "id": "uW8OTezv7xLS",
        "colab_type": "code",
        "colab": {}
      },
      "source": [
        "D +=A\n",
        "print(D)"
      ],
      "execution_count": null,
      "outputs": []
    },
    {
      "cell_type": "markdown",
      "metadata": {
        "id": "N2LGG0bF8SPI",
        "colab_type": "text"
      },
      "source": [
        "## Trabalhando com Strings(Texto)\n"
      ]
    },
    {
      "cell_type": "code",
      "metadata": {
        "id": "RpeYFsoM8Y-X",
        "colab_type": "code",
        "colab": {}
      },
      "source": [
        "texto = \"T-Systems\""
      ],
      "execution_count": 35,
      "outputs": []
    },
    {
      "cell_type": "code",
      "metadata": {
        "id": "7SV4druJ8f7W",
        "colab_type": "code",
        "colab": {}
      },
      "source": [
        "texto[:3]"
      ],
      "execution_count": null,
      "outputs": []
    },
    {
      "cell_type": "code",
      "metadata": {
        "id": "o2SJmd0f8k9f",
        "colab_type": "code",
        "colab": {
          "base_uri": "https://localhost:8080/",
          "height": 35
        },
        "outputId": "7bf8cd68-d46e-4217-c336-0baaf081eb69"
      },
      "source": [
        "texto[3:]"
      ],
      "execution_count": 37,
      "outputs": [
        {
          "output_type": "execute_result",
          "data": {
            "application/vnd.google.colaboratory.intrinsic": {
              "type": "string"
            },
            "text/plain": [
              "'ystems'"
            ]
          },
          "metadata": {
            "tags": []
          },
          "execution_count": 37
        }
      ]
    },
    {
      "cell_type": "code",
      "metadata": {
        "id": "BW5u7XbF8tP4",
        "colab_type": "code",
        "colab": {}
      },
      "source": [
        "texto[3:5]"
      ],
      "execution_count": null,
      "outputs": []
    },
    {
      "cell_type": "code",
      "metadata": {
        "id": "fnRkNN_Z8wUS",
        "colab_type": "code",
        "colab": {}
      },
      "source": [
        "texto_invertido = texto[::-1]"
      ],
      "execution_count": 39,
      "outputs": []
    },
    {
      "cell_type": "code",
      "metadata": {
        "id": "btOWR5mD87R7",
        "colab_type": "code",
        "colab": {}
      },
      "source": [
        "texto.find(\"-\")"
      ],
      "execution_count": null,
      "outputs": []
    },
    {
      "cell_type": "code",
      "metadata": {
        "id": "OumHzcaJ9Dhx",
        "colab_type": "code",
        "colab": {}
      },
      "source": [
        "texto_invertido.find(\"-\")"
      ],
      "execution_count": null,
      "outputs": []
    },
    {
      "cell_type": "code",
      "metadata": {
        "id": "GGQaY9re9NYO",
        "colab_type": "code",
        "colab": {}
      },
      "source": [
        "texto_condatenado = texto_invertido + texto\n",
        "print(texto_condatenado)"
      ],
      "execution_count": null,
      "outputs": []
    },
    {
      "cell_type": "code",
      "metadata": {
        "id": "9JSLgeRu9WTg",
        "colab_type": "code",
        "colab": {}
      },
      "source": [
        "texto[2]"
      ],
      "execution_count": null,
      "outputs": []
    },
    {
      "cell_type": "markdown",
      "metadata": {
        "id": "PUQnxG8A9rKD",
        "colab_type": "text"
      },
      "source": [
        "##Atribuição de Variavel"
      ]
    },
    {
      "cell_type": "code",
      "metadata": {
        "id": "bm3sqQVF9uAG",
        "colab_type": "code",
        "colab": {}
      },
      "source": [
        "A = 1"
      ],
      "execution_count": 44,
      "outputs": []
    },
    {
      "cell_type": "code",
      "metadata": {
        "id": "WZROCtlA9xKp",
        "colab_type": "code",
        "colab": {}
      },
      "source": [
        "A,B = 3,5"
      ],
      "execution_count": 45,
      "outputs": []
    },
    {
      "cell_type": "code",
      "metadata": {
        "id": "32AYA7O990ba",
        "colab_type": "code",
        "colab": {}
      },
      "source": [
        "A"
      ],
      "execution_count": null,
      "outputs": []
    },
    {
      "cell_type": "code",
      "metadata": {
        "id": "Rnl3B4xu94Gw",
        "colab_type": "code",
        "colab": {}
      },
      "source": [
        "B"
      ],
      "execution_count": null,
      "outputs": []
    },
    {
      "cell_type": "code",
      "metadata": {
        "id": "J_2IxYYS94ks",
        "colab_type": "code",
        "colab": {}
      },
      "source": [
        "C = 1 if A==1 else B"
      ],
      "execution_count": null,
      "outputs": []
    },
    {
      "cell_type": "code",
      "metadata": {
        "id": "ROUlpggb-MKi",
        "colab_type": "code",
        "colab": {}
      },
      "source": [
        "C"
      ],
      "execution_count": null,
      "outputs": []
    },
    {
      "cell_type": "code",
      "metadata": {
        "id": "xG1WRGd8-PFy",
        "colab_type": "code",
        "colab": {}
      },
      "source": [
        "\"python\".find(\"t\")"
      ],
      "execution_count": null,
      "outputs": []
    },
    {
      "cell_type": "code",
      "metadata": {
        "id": "XHN5Q6Rm-bJj",
        "colab_type": "code",
        "colab": {}
      },
      "source": [
        "texto = \"Olá\\nPessoal\"\n",
        "texto_raw = r\"Olá\\nPessoal\""
      ],
      "execution_count": 46,
      "outputs": []
    },
    {
      "cell_type": "code",
      "metadata": {
        "id": "XKULL3w5-00k",
        "colab_type": "code",
        "colab": {}
      },
      "source": [
        "print(texto)"
      ],
      "execution_count": null,
      "outputs": []
    },
    {
      "cell_type": "code",
      "metadata": {
        "id": "nuZ7Z2O5-2IE",
        "colab_type": "code",
        "colab": {}
      },
      "source": [
        "print(texto_raw)"
      ],
      "execution_count": null,
      "outputs": []
    },
    {
      "cell_type": "code",
      "metadata": {
        "id": "sCHwBy89_G-4",
        "colab_type": "code",
        "colab": {}
      },
      "source": [
        "\"Olá\" in texto"
      ],
      "execution_count": null,
      "outputs": []
    },
    {
      "cell_type": "code",
      "metadata": {
        "id": "GMlS1rHt_ier",
        "colab_type": "code",
        "colab": {}
      },
      "source": [
        "\"T-Systems\" in texto"
      ],
      "execution_count": null,
      "outputs": []
    },
    {
      "cell_type": "code",
      "metadata": {
        "id": "nI8PRw-GAHng",
        "colab_type": "code",
        "colab": {}
      },
      "source": [
        "\"     texto\""
      ],
      "execution_count": null,
      "outputs": []
    },
    {
      "cell_type": "code",
      "metadata": {
        "id": "wgRJFYGpATre",
        "colab_type": "code",
        "colab": {}
      },
      "source": [
        "\"     texto\".strip()"
      ],
      "execution_count": null,
      "outputs": []
    },
    {
      "cell_type": "markdown",
      "metadata": {
        "id": "O13tawSqAdl-",
        "colab_type": "text"
      },
      "source": [
        "#Estruturas de Dados"
      ]
    },
    {
      "cell_type": "code",
      "metadata": {
        "id": "oKr8pl00AjOk",
        "colab_type": "code",
        "colab": {}
      },
      "source": [
        "lista = [1, 2, 3, 4]"
      ],
      "execution_count": 53,
      "outputs": []
    },
    {
      "cell_type": "code",
      "metadata": {
        "id": "RGoCGXV-AoAm",
        "colab_type": "code",
        "colab": {}
      },
      "source": [
        "lista"
      ],
      "execution_count": null,
      "outputs": []
    },
    {
      "cell_type": "code",
      "metadata": {
        "id": "S5-5okQ_Aoj5",
        "colab_type": "code",
        "colab": {}
      },
      "source": [
        "tupla = (1, 2, 3,4, 5)"
      ],
      "execution_count": 55,
      "outputs": []
    },
    {
      "cell_type": "code",
      "metadata": {
        "id": "yrXZdYIUAwN-",
        "colab_type": "code",
        "colab": {}
      },
      "source": [
        "tupla"
      ],
      "execution_count": null,
      "outputs": []
    },
    {
      "cell_type": "code",
      "metadata": {
        "id": "2rpsc6s8Ayn3",
        "colab_type": "code",
        "colab": {}
      },
      "source": [
        "lista[1] = 7\n",
        "print(lista)"
      ],
      "execution_count": null,
      "outputs": []
    },
    {
      "cell_type": "code",
      "metadata": {
        "id": "y5exCZM7A2a_",
        "colab_type": "code",
        "colab": {}
      },
      "source": [
        "tupla[2] = 1"
      ],
      "execution_count": null,
      "outputs": []
    },
    {
      "cell_type": "code",
      "metadata": {
        "id": "JcGi-ggPA75H",
        "colab_type": "code",
        "colab": {}
      },
      "source": [
        "dicionario = {\"A\":1, \"B\":2, \"C\":3}"
      ],
      "execution_count": 59,
      "outputs": []
    },
    {
      "cell_type": "code",
      "metadata": {
        "id": "gFfffpavBEAH",
        "colab_type": "code",
        "colab": {}
      },
      "source": [
        "dicionario"
      ],
      "execution_count": null,
      "outputs": []
    },
    {
      "cell_type": "code",
      "metadata": {
        "id": "sFQt61vWBE8R",
        "colab_type": "code",
        "colab": {}
      },
      "source": [
        "dicionario[\"A\"]"
      ],
      "execution_count": null,
      "outputs": []
    },
    {
      "cell_type": "code",
      "metadata": {
        "id": "iEhmw11uBWJE",
        "colab_type": "code",
        "colab": {}
      },
      "source": [
        "print(dicionario.keys())"
      ],
      "execution_count": null,
      "outputs": []
    },
    {
      "cell_type": "code",
      "metadata": {
        "id": "J8E-JfDh0nrc",
        "colab_type": "code",
        "colab": {}
      },
      "source": [
        "print(dicionario.items())"
      ],
      "execution_count": null,
      "outputs": []
    },
    {
      "cell_type": "code",
      "metadata": {
        "id": "hEFv-wme0tN5",
        "colab_type": "code",
        "colab": {}
      },
      "source": [
        "print(dicionario.values())"
      ],
      "execution_count": null,
      "outputs": []
    },
    {
      "cell_type": "code",
      "metadata": {
        "id": "xn-ERSoTBdQl",
        "colab_type": "code",
        "colab": {}
      },
      "source": [
        "dicionario[\"A\"] = \"B\""
      ],
      "execution_count": 65,
      "outputs": []
    },
    {
      "cell_type": "code",
      "metadata": {
        "id": "_IKLjqlzB2OS",
        "colab_type": "code",
        "colab": {}
      },
      "source": [
        "dicionario"
      ],
      "execution_count": null,
      "outputs": []
    },
    {
      "cell_type": "code",
      "metadata": {
        "id": "WT3lGUJNB3Zs",
        "colab_type": "code",
        "colab": {}
      },
      "source": [
        "matriz = [[1,2,3], [3,2,1], ['A', 'B','C']]"
      ],
      "execution_count": 67,
      "outputs": []
    },
    {
      "cell_type": "code",
      "metadata": {
        "id": "3aE6_39bCFmP",
        "colab_type": "code",
        "colab": {
          "base_uri": "https://localhost:8080/",
          "height": 34
        },
        "outputId": "5547beb9-0664-47e1-b437-5ffcf5bf3fda"
      },
      "source": [
        "matriz"
      ],
      "execution_count": 68,
      "outputs": [
        {
          "output_type": "execute_result",
          "data": {
            "text/plain": [
              "[[1, 2, 3], [3, 2, 1], ['A', 'B', 'C']]"
            ]
          },
          "metadata": {
            "tags": []
          },
          "execution_count": 68
        }
      ]
    },
    {
      "cell_type": "code",
      "metadata": {
        "id": "Lt7JzISiCLxx",
        "colab_type": "code",
        "colab": {}
      },
      "source": [
        "matriz = [[1,2,3],[4,5,6],[7,8,9]]"
      ],
      "execution_count": 69,
      "outputs": []
    },
    {
      "cell_type": "code",
      "metadata": {
        "id": "Ym3TzEziCZjH",
        "colab_type": "code",
        "colab": {}
      },
      "source": [
        "matriz[0][2]"
      ],
      "execution_count": null,
      "outputs": []
    },
    {
      "cell_type": "markdown",
      "metadata": {
        "id": "OvQ838Zb1Ags",
        "colab_type": "text"
      },
      "source": [
        "# Condicionais e Loop"
      ]
    },
    {
      "cell_type": "code",
      "metadata": {
        "id": "uz2R21SRCbIT",
        "colab_type": "code",
        "colab": {}
      },
      "source": [
        "if \"A\" == \"B\":\n",
        "  print(\"A = B\")\n",
        "elif \"A\" == \"C\":\n",
        "  print(\"A = C\")\n",
        "else:\n",
        "  print(\"A != B e C\")"
      ],
      "execution_count": null,
      "outputs": []
    },
    {
      "cell_type": "code",
      "metadata": {
        "id": "IIk7RDzDDSgA",
        "colab_type": "code",
        "colab": {}
      },
      "source": [
        "A = 0\n",
        "while A < 10:\n",
        "  print(\"A = \" + str(A))\n",
        "  A+=1"
      ],
      "execution_count": null,
      "outputs": []
    },
    {
      "cell_type": "code",
      "metadata": {
        "id": "pi-29HXXDeFl",
        "colab_type": "code",
        "colab": {}
      },
      "source": [
        "A =0\n",
        "while A <= 10:\n",
        "  print(A)\n",
        "  A+=1"
      ],
      "execution_count": null,
      "outputs": []
    },
    {
      "cell_type": "code",
      "metadata": {
        "id": "4Eist_5mDlc8",
        "colab_type": "code",
        "colab": {}
      },
      "source": [
        "for valor in lista:\n",
        "  print(\"Valor da lista = \" + str(valor))"
      ],
      "execution_count": null,
      "outputs": []
    },
    {
      "cell_type": "code",
      "metadata": {
        "id": "n37X8GdADuB9",
        "colab_type": "code",
        "colab": {}
      },
      "source": [
        "for chave in dicionario:\n",
        "  print(\"Chave = \" + str(chave))"
      ],
      "execution_count": null,
      "outputs": []
    },
    {
      "cell_type": "code",
      "metadata": {
        "id": "j1z4gCW2D2GQ",
        "colab_type": "code",
        "colab": {}
      },
      "source": [
        "for valor in dicionario.values():\n",
        "  print(\"Valor = \" + str(valor))"
      ],
      "execution_count": null,
      "outputs": []
    },
    {
      "cell_type": "code",
      "metadata": {
        "id": "ALS19dIGD5Fc",
        "colab_type": "code",
        "colab": {}
      },
      "source": [
        "for i in range(10):\n",
        "  print(\"I = \" + str(i))"
      ],
      "execution_count": null,
      "outputs": []
    },
    {
      "cell_type": "code",
      "metadata": {
        "id": "s-abDngdEAzP",
        "colab_type": "code",
        "colab": {}
      },
      "source": [
        "for i in range(8,10):\n",
        "  print(\"I = \" + str(i))"
      ],
      "execution_count": null,
      "outputs": []
    },
    {
      "cell_type": "code",
      "metadata": {
        "id": "7NKBFwusEKCE",
        "colab_type": "code",
        "colab": {}
      },
      "source": [
        "# range(inicio, fim, intervalo)\n",
        "for i in range(0,10,2):\n",
        "  print(\"I = \" + str(i))"
      ],
      "execution_count": null,
      "outputs": []
    },
    {
      "cell_type": "markdown",
      "metadata": {
        "id": "jfMN3K-2I910",
        "colab_type": "text"
      },
      "source": [
        "#Funções"
      ]
    },
    {
      "cell_type": "code",
      "metadata": {
        "id": "-0abGBLIJB13",
        "colab_type": "code",
        "colab": {}
      },
      "source": [
        "def Somar(x, y):\n",
        "  return x+y"
      ],
      "execution_count": 83,
      "outputs": []
    },
    {
      "cell_type": "code",
      "metadata": {
        "id": "AQllh6YeJI01",
        "colab_type": "code",
        "colab": {}
      },
      "source": [
        "Somar(1,2)"
      ],
      "execution_count": null,
      "outputs": []
    },
    {
      "cell_type": "code",
      "metadata": {
        "id": "EpbIdY9nJOh8",
        "colab_type": "code",
        "colab": {}
      },
      "source": [
        "def Numeros(x,y):\n",
        "  z = x + y \n",
        "  w = x * y\n",
        "  return z, w"
      ],
      "execution_count": 85,
      "outputs": []
    },
    {
      "cell_type": "code",
      "metadata": {
        "id": "XMhR-EZWJhRV",
        "colab_type": "code",
        "colab": {}
      },
      "source": [
        "a, b = Numeros(1,7)"
      ],
      "execution_count": 86,
      "outputs": []
    },
    {
      "cell_type": "code",
      "metadata": {
        "id": "371V-_qjJ0cx",
        "colab_type": "code",
        "colab": {}
      },
      "source": [
        "a"
      ],
      "execution_count": null,
      "outputs": []
    },
    {
      "cell_type": "code",
      "metadata": {
        "id": "StLq37QIJ2pV",
        "colab_type": "code",
        "colab": {}
      },
      "source": [
        "b"
      ],
      "execution_count": null,
      "outputs": []
    },
    {
      "cell_type": "markdown",
      "metadata": {
        "id": "gP0FT7LCHaDz",
        "colab_type": "text"
      },
      "source": [
        "#Pandas"
      ]
    },
    {
      "cell_type": "code",
      "metadata": {
        "id": "GHBVZkrcEO3I",
        "colab_type": "code",
        "colab": {}
      },
      "source": [
        "import pandas as pd"
      ],
      "execution_count": 91,
      "outputs": []
    },
    {
      "cell_type": "code",
      "metadata": {
        "id": "CJV39WRvEW0s",
        "colab_type": "code",
        "colab": {}
      },
      "source": [
        "dados = {\"Nome\":[\"Kaique\", \"Rafael\", \"Augusto\"], \"Idade\":[21, 23, 30], \n",
        "         \"Cidade\":['SBC', \"SP\", \"SC\"]}"
      ],
      "execution_count": 92,
      "outputs": []
    },
    {
      "cell_type": "code",
      "metadata": {
        "id": "ojLXpHKUE_l-",
        "colab_type": "code",
        "colab": {}
      },
      "source": [
        "df = pd.DataFrame(dados)"
      ],
      "execution_count": 93,
      "outputs": []
    },
    {
      "cell_type": "code",
      "metadata": {
        "id": "E3-ESIR-FErb",
        "colab_type": "code",
        "colab": {}
      },
      "source": [
        "df"
      ],
      "execution_count": null,
      "outputs": []
    },
    {
      "cell_type": "code",
      "metadata": {
        "id": "7PNEzp8DFFZ-",
        "colab_type": "code",
        "colab": {}
      },
      "source": [
        "df['Nome']"
      ],
      "execution_count": null,
      "outputs": []
    },
    {
      "cell_type": "code",
      "metadata": {
        "id": "kgmQoZXa3eJX",
        "colab_type": "code",
        "colab": {}
      },
      "source": [
        "list(df['Nome'])"
      ],
      "execution_count": null,
      "outputs": []
    },
    {
      "cell_type": "code",
      "metadata": {
        "id": "xoS9Sm1Q3icG",
        "colab_type": "code",
        "colab": {}
      },
      "source": [
        "dict(df['Nome'])"
      ],
      "execution_count": null,
      "outputs": []
    },
    {
      "cell_type": "code",
      "metadata": {
        "id": "U7Ck-3WTFN3E",
        "colab_type": "code",
        "colab": {}
      },
      "source": [
        "df.columns"
      ],
      "execution_count": null,
      "outputs": []
    },
    {
      "cell_type": "code",
      "metadata": {
        "id": "4T4WrswmFTDj",
        "colab_type": "code",
        "colab": {}
      },
      "source": [
        "df.info()"
      ],
      "execution_count": null,
      "outputs": []
    },
    {
      "cell_type": "code",
      "metadata": {
        "id": "aC-uVIJcFUsE",
        "colab_type": "code",
        "colab": {}
      },
      "source": [
        "df.describe().round(2)"
      ],
      "execution_count": null,
      "outputs": []
    },
    {
      "cell_type": "code",
      "metadata": {
        "id": "397klSVKFYfx",
        "colab_type": "code",
        "colab": {}
      },
      "source": [
        "df['Telefone'] = ['1234-3214', '3214-1234', '4563-5432']"
      ],
      "execution_count": 112,
      "outputs": []
    },
    {
      "cell_type": "code",
      "metadata": {
        "id": "FPmCSXG5FlCF",
        "colab_type": "code",
        "colab": {}
      },
      "source": [
        "df.head(2)"
      ],
      "execution_count": null,
      "outputs": []
    },
    {
      "cell_type": "code",
      "metadata": {
        "id": "y9aj9HyHFlsv",
        "colab_type": "code",
        "colab": {}
      },
      "source": [
        "df.tail(1)"
      ],
      "execution_count": null,
      "outputs": []
    },
    {
      "cell_type": "code",
      "metadata": {
        "id": "RmHv4fA3GF6Z",
        "colab_type": "code",
        "colab": {}
      },
      "source": [
        "df"
      ],
      "execution_count": null,
      "outputs": []
    },
    {
      "cell_type": "code",
      "metadata": {
        "id": "HdGibPUXGGux",
        "colab_type": "code",
        "colab": {}
      },
      "source": [
        "df = df.append({\"Nome\":\"Danilo\", \"Idade\":35, \n",
        "         \"Cidade\":'SBC', \"Telefone\":'5431-3451'}, ignore_index=True)"
      ],
      "execution_count": 128,
      "outputs": []
    },
    {
      "cell_type": "code",
      "metadata": {
        "id": "qZgpYoqwGexp",
        "colab_type": "code",
        "colab": {}
      },
      "source": [
        "pd.DataFrame(df.groupby('Cidade')['Idade'].sum())"
      ],
      "execution_count": null,
      "outputs": []
    },
    {
      "cell_type": "code",
      "metadata": {
        "id": "PA1qc_q-HnfX",
        "colab_type": "code",
        "colab": {}
      },
      "source": [
        "df.dtypes"
      ],
      "execution_count": null,
      "outputs": []
    },
    {
      "cell_type": "code",
      "metadata": {
        "id": "5r-cnjvJH0wr",
        "colab_type": "code",
        "colab": {}
      },
      "source": [
        "df[df['Cidade']==\"SBC\"]"
      ],
      "execution_count": null,
      "outputs": []
    },
    {
      "cell_type": "code",
      "metadata": {
        "id": "MkDxonATIAlS",
        "colab_type": "code",
        "colab": {}
      },
      "source": [
        "df[df['Cidade']!=\"SBC\"]"
      ],
      "execution_count": null,
      "outputs": []
    },
    {
      "cell_type": "code",
      "metadata": {
        "id": "KiV6H3GrIEmj",
        "colab_type": "code",
        "colab": {}
      },
      "source": [
        "df.query(\"Cidade == 'SBC'\")"
      ],
      "execution_count": null,
      "outputs": []
    },
    {
      "cell_type": "code",
      "metadata": {
        "id": "nOIeaO_sIQoa",
        "colab_type": "code",
        "colab": {}
      },
      "source": [
        "df = df.append({\"Nome\":\"Carlos\", \"Idade\":35, \n",
        "         \"Cidade\":None, \"Telefone\":543}, ignore_index=True)"
      ],
      "execution_count": 135,
      "outputs": []
    },
    {
      "cell_type": "code",
      "metadata": {
        "id": "cWI02uucIjgb",
        "colab_type": "code",
        "colab": {}
      },
      "source": [
        "df"
      ],
      "execution_count": null,
      "outputs": []
    },
    {
      "cell_type": "code",
      "metadata": {
        "id": "U9d4742kIuK_",
        "colab_type": "code",
        "colab": {}
      },
      "source": [
        "df.dropna()"
      ],
      "execution_count": null,
      "outputs": []
    },
    {
      "cell_type": "code",
      "metadata": {
        "id": "8igtbphxIzCY",
        "colab_type": "code",
        "colab": {}
      },
      "source": [
        "df"
      ],
      "execution_count": null,
      "outputs": []
    }
  ]
}